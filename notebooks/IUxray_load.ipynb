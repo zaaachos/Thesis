{
  "nbformat": 4,
  "nbformat_minor": 0,
  "metadata": {
    "colab": {
      "provenance": [],
      "collapsed_sections": [],
      "include_colab_link": true
    },
    "kernelspec": {
      "name": "python3",
      "display_name": "Python 3"
    },
    "language_info": {
      "name": "python"
    }
  },
  "cells": [
    {
      "cell_type": "markdown",
      "metadata": {
        "id": "view-in-github",
        "colab_type": "text"
      },
      "source": [
        "<a href=\"https://colab.research.google.com/github/zaaachos/Thesis-Diagnostic-Captioning/blob/main/notebooks/IUxray_load.ipynb\" target=\"_parent\"><img src=\"https://colab.research.google.com/assets/colab-badge.svg\" alt=\"Open In Colab\"/></a>"
      ]
    },
    {
      "cell_type": "code",
      "metadata": {
        "id": "AVx1czKDsoAw"
      },
      "source": [
        "import os\n",
        "from shutil import rmtree\n",
        "import xml.etree.ElementTree as ET\n",
        "import random\n",
        "import numpy\n",
        "import json"
      ],
      "execution_count": null,
      "outputs": []
    },
    {
      "cell_type": "code",
      "metadata": {
        "colab": {
          "base_uri": "https://localhost:8080/"
        },
        "id": "MTUlpG2l40uy",
        "outputId": "31d6fe61-3e05-4be6-f9d4-e2489d60b179"
      },
      "source": [
        "from google.colab import drive\n",
        "drive.mount('/content/drive')\n",
        "baseDir = \"/content/drive/MyDrive/datasets/\""
      ],
      "execution_count": null,
      "outputs": [
        {
          "output_type": "stream",
          "name": "stdout",
          "text": [
            "Drive already mounted at /content/drive; to attempt to forcibly remount, call drive.mount(\"/content/drive\", force_remount=True).\n"
          ]
        }
      ]
    },
    {
      "cell_type": "code",
      "metadata": {
        "id": "xffET2N547Zh"
      },
      "source": [
        "def split_cases(reports_images, reports_text, keys, filename):\n",
        "    new_images = {}\n",
        "\n",
        "    for key in keys:\n",
        "        for image in reports_images[key]:\n",
        "            new_images[image] = reports_text[key]\n",
        "\n",
        "    with open(filename, \"w\") as output_file:\n",
        "        for new_image in new_images:\n",
        "            output_file.write(new_image + \"\\t\" + new_images[new_image])\n",
        "            output_file.write(\"\\n\")"
      ],
      "execution_count": null,
      "outputs": []
    },
    {
      "cell_type": "code",
      "metadata": {
        "id": "lyWZS6IY492y"
      },
      "source": [
        "# create dataset folder\n",
        "try:\n",
        "    rmtree(baseDir+\"iu_xray/\")\n",
        "except BaseException:\n",
        "    pass\n",
        "os.makedirs(baseDir+\"iu_xray/\")\n",
        "\n",
        "# create folder for images\n",
        "os.makedirs(baseDir+\"iu_xray/iu_xray_images/\")"
      ],
      "execution_count": null,
      "outputs": []
    },
    {
      "cell_type": "code",
      "metadata": {
        "colab": {
          "base_uri": "https://localhost:8080/"
        },
        "id": "hGlKpdPr5h95",
        "outputId": "60652220-7871-4c53-c65a-e4d9e0f68e53"
      },
      "source": [
        "# download PNG images\n",
        "os.system(\"wget -P iu_xray/ https://openi.nlm.nih.gov/imgs/collections/NLMCXR_png.tgz\")\n",
        "\n",
        "# download reports\n",
        "os.system(\"wget -P iu_xray/ https://openi.nlm.nih.gov/imgs/collections/NLMCXR_reports.tgz\")"
      ],
      "execution_count": null,
      "outputs": [
        {
          "output_type": "execute_result",
          "data": {
            "text/plain": [
              "0"
            ]
          },
          "metadata": {},
          "execution_count": 9
        }
      ]
    },
    {
      "cell_type": "code",
      "metadata": {
        "colab": {
          "base_uri": "https://localhost:8080/"
        },
        "id": "olmSXuos56At",
        "outputId": "235343da-8eb4-47c7-cea7-0f4c842699ca"
      },
      "source": [
        "# unzip\n",
        "os.system(\"tar -xzf ./iu_xray/NLMCXR_png.tgz -C \"+baseDir+\"iu_xray/iu_xray_images/\")\n",
        "os.system(\"tar -xzf ./iu_xray/NLMCXR_reports.tgz -C \"+baseDir+\"iu_xray/\")"
      ],
      "execution_count": null,
      "outputs": [
        {
          "output_type": "execute_result",
          "data": {
            "text/plain": [
              "0"
            ]
          },
          "metadata": {},
          "execution_count": 10
        }
      ]
    },
    {
      "cell_type": "code",
      "metadata": {
        "id": "OzvPH64b8KQh"
      },
      "source": [
        "# read the reports xml files and create the dataset tsv\n",
        "reports_path = baseDir+\"iu_xray/ecgen-radiology\"\n",
        "\n",
        "reports = os.listdir(reports_path)\n",
        "\n",
        "reports.sort()"
      ],
      "execution_count": null,
      "outputs": []
    },
    {
      "cell_type": "code",
      "metadata": {
        "colab": {
          "base_uri": "https://localhost:8080/"
        },
        "id": "kaqcUpgF8KVJ",
        "outputId": "f794e8f0-64cc-4ed8-b0c9-6b8d6df9039d"
      },
      "source": [
        "reports_with_no_image = []\n",
        "reports_with_empty_sections = []\n",
        "reports_with_no_impression = []\n",
        "reports_with_no_findings = []\n",
        "\n",
        "images_captions = {}\n",
        "images_major_tags = {}\n",
        "images_auto_tags = {}\n",
        "reports_with_images = {}\n",
        "text_of_reports = {}\n",
        "\n",
        "for report in reports:\n",
        "    tree = ET.parse(os.path.join(reports_path, report))\n",
        "    root = tree.getroot()\n",
        "    img_ids = []\n",
        "    # find the images of the report\n",
        "    images = root.findall(\"parentImage\")\n",
        "    # if there aren't any ignore the report\n",
        "    if len(images) == 0:\n",
        "        reports_with_no_image.append(report)\n",
        "    else:\n",
        "        sections = root.find(\"MedlineCitation\").find(\"Article\").find(\"Abstract\").findall(\"AbstractText\")\n",
        "        # find impression and findings sections\n",
        "        for section in sections:\n",
        "            if section.get(\"Label\") == \"FINDINGS\":\n",
        "                findings = section.text\n",
        "            if section.get(\"Label\") == \"IMPRESSION\":\n",
        "                impression = section.text\n",
        "\n",
        "        if impression is None and findings is None:\n",
        "            reports_with_empty_sections.append(report)\n",
        "        else:\n",
        "            if impression is None:\n",
        "                reports_with_no_impression.append(report)\n",
        "                caption = findings\n",
        "            elif findings is None:\n",
        "                reports_with_no_findings.append(report)\n",
        "                caption = impression\n",
        "            else:\n",
        "                caption = impression + \" \" + findings\n",
        "\n",
        "            # get the MESH tags\n",
        "            tags = root.find(\"MeSH\")\n",
        "            major_tags = []\n",
        "            auto_tags = []\n",
        "            if tags is not None:\n",
        "                major_tags = [t.text for t in tags.findall(\"major\")]\n",
        "                auto_tags = [t.text for t in tags.findall(\"automatic\")]\n",
        "\n",
        "            for image in images:\n",
        "                iid = image.get(\"id\") + \".png\"\n",
        "                images_captions[iid] = caption\n",
        "                img_ids.append(iid)\n",
        "                images_major_tags[iid] = major_tags\n",
        "                images_auto_tags[iid] = auto_tags\n",
        "\n",
        "            reports_with_images[report] = img_ids\n",
        "            text_of_reports[report] = caption\n",
        "\n",
        "print(\"Found\", len(reports_with_no_image), \"reports with no associated image\")\n",
        "print(\"Found\", len(reports_with_empty_sections), \"reports with empty Impression and Findings sections\")\n",
        "print(\"Found\", len(reports_with_no_impression), \"reports with no Impression section\")\n",
        "print(\"Found\", len(reports_with_no_findings), \"reports with no Findings section\")\n",
        "\n",
        "print(\"Collected\", len(images_captions), \"image-caption pairs\")\n"
      ],
      "execution_count": null,
      "outputs": [
        {
          "output_type": "stream",
          "name": "stdout",
          "text": [
            "Found 104 reports with no associated image\n",
            "Found 25 reports with empty Impression and Findings sections\n",
            "Found 6 reports with no Impression section\n",
            "Found 489 reports with no Findings section\n",
            "Collected 7430 image-caption pairs\n"
          ]
        }
      ]
    },
    {
      "cell_type": "code",
      "metadata": {
        "id": "SkqgsGo08KY6"
      },
      "source": [
        "with open(baseDir+\"iu_xray/iu_xray.tsv\", \"w\") as output_file:\n",
        "    for image_caption in images_captions:\n",
        "        output_file.write(image_caption + \"\\t\" + images_captions[image_caption])\n",
        "        output_file.write(\"\\n\")\n",
        "\n",
        "# Safer JSON storing\n",
        "with open(baseDir+\"iu_xray/iu_xray_captions.json\", \"w\") as output_file:\n",
        "    output_file.write(json.dumps(images_captions))\n",
        "with open(baseDir+\"iu_xray/iu_xray_major_tags.json\", \"w\") as output_file:\n",
        "    output_file.write(json.dumps(images_major_tags))\n",
        "with open(baseDir+\"iu_xray/iu_xray_auto_tags.json\", \"w\") as output_file:\n",
        "    output_file.write(json.dumps(images_auto_tags))\n",
        "\n",
        "# perform a case based split\n",
        "random.seed(42)\n",
        "keys = list(reports_with_images.keys())\n",
        "random.shuffle(keys)\n",
        "\n",
        "train_split = int(numpy.floor(len(reports_with_images) * 0.9))\n",
        "\n",
        "train_keys = keys[:train_split]\n",
        "test_keys = keys[train_split:]\n",
        "\n",
        "train_path = baseDir+\"iu_xray/train_images.tsv\"\n",
        "test_path = baseDir+\"iu_xray/test_images.tsv\"\n",
        "\n",
        "split_cases(reports_with_images, text_of_reports, train_keys, train_path)\n",
        "split_cases(reports_with_images, text_of_reports, test_keys, test_path)"
      ],
      "execution_count": null,
      "outputs": []
    },
    {
      "cell_type": "code",
      "metadata": {
        "colab": {
          "base_uri": "https://localhost:8080/"
        },
        "id": "6EWgRagc8KcY",
        "outputId": "2a00422a-aacb-4122-95be-cfdd918eef20"
      },
      "source": [
        "os.listdir(baseDir+\"iu_xray\")"
      ],
      "execution_count": null,
      "outputs": [
        {
          "output_type": "execute_result",
          "data": {
            "text/plain": [
              "['iu_xray_images',\n",
              " 'ecgen-radiology',\n",
              " 'iu_xray.tsv',\n",
              " 'iu_xray_captions.json',\n",
              " 'iu_xray_major_tags.json',\n",
              " 'iu_xray_auto_tags.json',\n",
              " 'train_images.tsv',\n",
              " 'test_images.tsv']"
            ]
          },
          "metadata": {},
          "execution_count": 15
        }
      ]
    },
    {
      "cell_type": "code",
      "metadata": {
        "id": "l-82kV6Bu_VV"
      },
      "source": [],
      "execution_count": null,
      "outputs": []
    }
  ]
}